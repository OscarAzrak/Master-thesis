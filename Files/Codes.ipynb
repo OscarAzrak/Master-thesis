{
 "cells": [
  {
   "cell_type": "code",
   "execution_count": 10,
   "metadata": {},
   "outputs": [],
   "source": [
    "%reload_ext autoreload\n",
    "%autoreload 2\n",
    "\n",
    "from func import *\n",
    "import pandas as pd\n",
    "\n"
   ]
  },
  {
   "cell_type": "code",
   "execution_count": 11,
   "metadata": {},
   "outputs": [
    {
     "name": "stderr",
     "output_type": "stream",
     "text": [
      "c:\\Users\\oscar.azrak\\Desktop\\Master-thesis\\Master-thesis\\Files\\func.py:21: DtypeWarning: Columns (15,27) have mixed types. Specify dtype option on import or set low_memory=False.\n",
      "  df_read = pd.read_csv(filename, sep=seperator)\n"
     ]
    }
   ],
   "source": [
    "filename = 'all_data_anonymized.csv'\n",
    "date_col = 'todate'\n",
    "start_date = '1980-01-01'\n",
    "seperator = ';'\n",
    "fill = 0\n",
    "lim = 5\n",
    "df_read = load_and_preprocess_data(filename, date_col, start_date, seperator, fill, lim)\n"
   ]
  },
  {
   "cell_type": "code",
   "execution_count": 12,
   "metadata": {},
   "outputs": [],
   "source": [
    "windows = [5, 10, 20, 40, 60, 100, 180, 240, 360, 480]\n",
    "window_m = [10, 30, 60, 100, 180]\n",
    "windows_test = [9]\n",
    "assets = df_read.columns\n",
    "df_feat = add_features(df_read, window_m)"
   ]
  },
  {
   "cell_type": "code",
   "execution_count": 13,
   "metadata": {},
   "outputs": [],
   "source": [
    "target_days = 9\n",
    "\n",
    "return_column_shift = 'avgreturn'\n",
    "volatility_column_shift = 'volatility'\n",
    "df = add_y_col(df_feat, df_read, date_col, target_days, return_column_shift, volatility_column_shift)"
   ]
  },
  {
   "cell_type": "code",
   "execution_count": 14,
   "metadata": {},
   "outputs": [],
   "source": [
    "X_train, X_eval, X_test, y_train, y_eval, y_test, X_train_eval, y_train_eval = prepare_training_dataset(df, date_col, shuffle=False, train_split=0.25, eval_split=0.25)"
   ]
  },
  {
   "cell_type": "code",
   "execution_count": 15,
   "metadata": {},
   "outputs": [
    {
     "name": "stdout",
     "output_type": "stream",
     "text": [
      "0\n",
      "           todate   asset    VaR_10   VaR_100   VaR_180    VaR_30    VaR_60  \\\n",
      "120284 1997-07-25   EQS_0 -0.012419 -0.027867 -0.021799 -0.017527 -0.018084   \n",
      "120285 1997-07-25   EQS_1 -0.017053 -0.020400 -0.020233 -0.019890 -0.018676   \n",
      "120286 1997-07-25  EQS_10 -0.021068 -0.022818 -0.018827 -0.022964 -0.022541   \n",
      "120287 1997-07-25   EQS_2 -0.012701 -0.014182 -0.011899 -0.016148 -0.012140   \n",
      "120288 1997-07-25   EQS_3 -0.015363 -0.015846 -0.012966 -0.015688 -0.012114   \n",
      "\n",
      "        avgreturn_10  avgreturn_100  avgreturn_180  avgreturn_30  \\\n",
      "120284      0.002417       0.000965       0.001501      0.001368   \n",
      "120285     -0.000581       0.001318       0.001369      0.000985   \n",
      "120286     -0.000989       0.000404       0.000697     -0.001385   \n",
      "120287      0.001843       0.001058       0.000796      0.001652   \n",
      "120288      0.001626       0.001758       0.001219      0.001664   \n",
      "\n",
      "        avgreturn_60  momentum_10  momentum_100  momentum_180  momentum_30  \\\n",
      "120284      0.002340     0.024167      0.092656      0.258166     0.038305   \n",
      "120285      0.002530    -0.005813      0.127876      0.236827     0.028556   \n",
      "120286      0.000894    -0.009886      0.039230      0.120511    -0.040176   \n",
      "120287      0.002294     0.018427      0.101567      0.136959     0.047898   \n",
      "120288      0.002744     0.016257      0.170478      0.210841     0.048260   \n",
      "\n",
      "        momentum_60   skew_10  skew_100  skew_180   skew_30   skew_60  \\\n",
      "120284     0.133397 -0.000366 -0.430148 -0.393705 -0.227304 -0.456774   \n",
      "120285     0.146731 -0.149339 -0.215706 -0.026699  0.470290  0.225803   \n",
      "120286     0.051878  0.579712 -0.090975 -0.050601  0.006137  0.034475   \n",
      "120287     0.133051  0.059152 -0.064348 -0.019025  0.114231  0.011804   \n",
      "120288     0.159161 -0.102896 -0.254505 -0.129573 -0.550835 -0.354502   \n",
      "\n",
      "        volatility_10  volatility_100  volatility_180  volatility_30  \\\n",
      "120284       0.011586        0.014642        0.013352       0.012851   \n",
      "120285       0.011852        0.014635        0.013776       0.014864   \n",
      "120286       0.015149        0.013122        0.011960       0.012665   \n",
      "120287       0.011715        0.010250        0.009119       0.011535   \n",
      "120288       0.011693        0.010184        0.009325       0.010237   \n",
      "\n",
      "        volatility_60   MACRO_8   MACRO_0   MACRO_1   MACRO_2   MACRO_3  \\\n",
      "120284       0.012667 -0.013365  0.008342  0.006122  0.003334  0.020771   \n",
      "120285       0.013114 -0.013365  0.008342  0.006122  0.003334  0.020771   \n",
      "120286       0.012172 -0.013365  0.008342  0.006122  0.003334  0.020771   \n",
      "120287       0.010179 -0.013365  0.008342  0.006122  0.003334  0.020771   \n",
      "120288       0.009328 -0.013365  0.008342  0.006122  0.003334  0.020771   \n",
      "\n",
      "         MACRO_4   MACRO_5   MACRO_6  MACRO_7  Y  \n",
      "120284 -0.005753  0.006034 -0.022739      0.0  1  \n",
      "120285 -0.005753  0.006034 -0.022739      0.0  1  \n",
      "120286 -0.005753  0.006034 -0.022739      0.0  1  \n",
      "120287 -0.005753  0.006034 -0.022739      0.0  1  \n",
      "120288 -0.005753  0.006034 -0.022739      0.0  1  \n"
     ]
    }
   ],
   "source": [
    "# check if df contains nan\n",
    "\n",
    "print(df.isnull().sum().sum())\n",
    "print(df.head())"
   ]
  },
  {
   "cell_type": "code",
   "execution_count": 16,
   "metadata": {},
   "outputs": [
    {
     "name": "stdout",
     "output_type": "stream",
     "text": [
      "Best parameters: {'alpha': 10.0}\n",
      "Best accuracy on evaluation set: 0.5086063469241039\n"
     ]
    }
   ],
   "source": [
    "param_grid_alpha = {'alpha': [0.1, 1.0, 10.0]}\n",
    "ridge_best, grid_search = optimize_and_train_ridge(X_train, y_train, X_train_eval, y_train_eval, param_grid_alpha)"
   ]
  },
  {
   "cell_type": "code",
   "execution_count": 17,
   "metadata": {},
   "outputs": [
    {
     "name": "stderr",
     "output_type": "stream",
     "text": [
      "C:\\Users\\oscar.azrak\\AppData\\Roaming\\Python\\Python310\\site-packages\\xgboost\\sklearn.py:889: UserWarning: `early_stopping_rounds` in `fit` method is deprecated for better compatibility with scikit-learn, use `early_stopping_rounds` in constructor or`set_params` instead.\n",
      "  warnings.warn(\n"
     ]
    },
    {
     "name": "stdout",
     "output_type": "stream",
     "text": [
      "Best hyperparameters: {'learning_rate': 0.1, 'max_depth': 3, 'n_estimators': 50}\n"
     ]
    }
   ],
   "source": [
    "param_grid_xgb = {\n",
    "    'max_depth': [3, 6, 10],\n",
    "    'n_estimators': [50, 100, 200],\n",
    "    'learning_rate': [0.01, 0.1, 0.2]\n",
    "}\n",
    "\n",
    "xgb_best, best_params = optimize_and_train_xgb(X_train, y_train, X_eval, y_eval, param_grid_xgb)\n"
   ]
  },
  {
   "cell_type": "code",
   "execution_count": 18,
   "metadata": {},
   "outputs": [],
   "source": [
    "\n",
    "param_grid_lgb = {\n",
    "    'max_depth': [3, 6, 10],\n",
    "    'n_estimators': [50, 100, 200],\n",
    "    'learning_rate': [0.01, 0.1, 0.2],\n",
    "    'num_leaves': [31, 63, 127, 255]\n",
    "}\n",
    "\n",
    "# Call the function with your datasets and hyperparameter grid\n",
    "lgb_best, best_params = optimize_and_train_lgb(X_train, y_train, X_eval, y_eval, param_grid_lgb)"
   ]
  },
  {
   "cell_type": "code",
   "execution_count": null,
   "metadata": {},
   "outputs": [],
   "source": [
    "NN_model, history, X_test_scaled = train_and_evaluate_NN(X_train_eval, y_train_eval, X_eval, y_eval, X_test, y_test)\n"
   ]
  },
  {
   "cell_type": "code",
   "execution_count": null,
   "metadata": {},
   "outputs": [],
   "source": [
    "\n",
    "# Store predictions in a dictionary\n",
    "predictions = {\n",
    "    \"Ridge Classifier\": ridge_best.predict(X_test),\n",
    "    \"XGBoost Classifier\": xgb_best.predict(X_test),\n",
    "    \"LightGBM Classifier\": lgb_best.predict(X_test),\n",
    "}   \n",
    "\n",
    "# Iterate through the dictionary and evaluate each model\n",
    "for model_name, y_pred in predictions.items():\n",
    "    print(model_name + \":\")\n",
    "    evaluate_model_performance(y_test, y_pred)\n",
    "    print(\"\\n\")\n"
   ]
  }
 ],
 "metadata": {
  "kernelspec": {
   "display_name": "base",
   "language": "python",
   "name": "python3"
  },
  "language_info": {
   "codemirror_mode": {
    "name": "ipython",
    "version": 3
   },
   "file_extension": ".py",
   "mimetype": "text/x-python",
   "name": "python",
   "nbconvert_exporter": "python",
   "pygments_lexer": "ipython3",
   "version": "3.10.9"
  }
 },
 "nbformat": 4,
 "nbformat_minor": 2
}
